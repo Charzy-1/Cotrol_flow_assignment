{
 "cells": [
  {
   "cell_type": "markdown",
   "id": "48ddcfba-c4c2-4002-8a68-58b73779949a",
   "metadata": {},
   "source": [
    "###  Write a Python program to check if a given number is positive or negative."
   ]
  },
  {
   "cell_type": "code",
   "execution_count": 1,
   "id": "52d62ea3-4972-4922-98b9-8fdb7b20fc4b",
   "metadata": {},
   "outputs": [
    {
     "name": "stdout",
     "output_type": "stream",
     "text": [
      "Positive numbers in the list are: [3, 5, 6, 1]\n",
      "Negative numbers in the list are: [-2, 0, -7, -1]\n"
     ]
    }
   ],
   "source": [
    "given_no = [3,5,-2,0,6,-7,-1,1]\n",
    "\n",
    "pos_no = []\n",
    "neg_no = []\n",
    "\n",
    "# looping through the list to  check for positive and negative numbers\n",
    "for numbers in given_no:\n",
    "    if numbers > 0:\n",
    "        pos_no.append(numbers)\n",
    "    else:\n",
    "        neg_no.append(numbers)\n",
    "        \n",
    "# print the numbers\n",
    "print(f'Positive numbers in the list are: {pos_no}')\n",
    "print(f'Negative numbers in the list are: {neg_no}')"
   ]
  },
  {
   "cell_type": "markdown",
   "id": "48137aa6-715d-458c-ba16-97777ac0bc94",
   "metadata": {},
   "source": [
    "###  Create a program that determines if a person is eligible to vote based on their age"
   ]
  },
  {
   "cell_type": "code",
   "execution_count": 2,
   "id": "fdea5ff2-8333-4c1d-8668-c88a6e7c3cb9",
   "metadata": {},
   "outputs": [
    {
     "name": "stdin",
     "output_type": "stream",
     "text": [
      "Enter your age:  25\n"
     ]
    },
    {
     "name": "stdout",
     "output_type": "stream",
     "text": [
      "You are eligible to vote\n"
     ]
    }
   ],
   "source": [
    "# To receive the voters age\n",
    "voters_age = int(input('Enter your age: '))\n",
    "\n",
    "if voters_age < 18:\n",
    "    print('You are underage, making you uneligibe to vote')\n",
    "else:\n",
    "    print('You are eligible to vote')\n",
    "                    \n",
    "                    "
   ]
  },
  {
   "cell_type": "markdown",
   "id": "43c569f5-0fb0-4cce-9db6-93a338a78ab4",
   "metadata": {},
   "source": [
    "###  Develop a program to find the maximum of two numbers using if-else statements."
   ]
  },
  {
   "cell_type": "code",
   "execution_count": 3,
   "id": "a095ba68-b9f6-4a31-b204-f6a87e352be3",
   "metadata": {},
   "outputs": [
    {
     "name": "stdin",
     "output_type": "stream",
     "text": [
      "Enter your first number:  15\n",
      "Enter your second number:  2\n"
     ]
    },
    {
     "name": "stdout",
     "output_type": "stream",
     "text": [
      "15 is the maximum number\n"
     ]
    }
   ],
   "source": [
    "# Get input from the user\n",
    "\n",
    "first_no = int(input('Enter your first number: '))\n",
    "second_no = int(input('Enter your second number: '))\n",
    "                      \n",
    "# compare the two nubmers to get the maximum among them\n",
    "\n",
    "if first_no > second_no:\n",
    "    print(f'{first_no} is the maximum number')\n",
    "elif first_no == second_no:\n",
    "    print(f'Both numbers are equal')\n",
    "else:\n",
    "    print(f'{second_no} is the maximum')\n",
    "    \n",
    "                      "
   ]
  },
  {
   "cell_type": "markdown",
   "id": "77d4e188-2b41-4d0f-8a65-a78b5271af01",
   "metadata": {},
   "source": [
    "### Write a Python script to classify a given year as a leap year or not."
   ]
  },
  {
   "cell_type": "code",
   "execution_count": 16,
   "id": "d2d34e5e-0313-4290-9563-855cb6a8af79",
   "metadata": {},
   "outputs": [
    {
     "name": "stdin",
     "output_type": "stream",
     "text": [
      "Enter any given year:  2022\n"
     ]
    },
    {
     "name": "stdout",
     "output_type": "stream",
     "text": [
      "The year is not a leap year as it has 365 days in it\n"
     ]
    }
   ],
   "source": [
    "# Get input from the user\n",
    "\n",
    "year = int(input('Enter any given year: '))\n",
    "\n",
    "if year%4 == 0:\n",
    "    if year%100 == 0:\n",
    "        if year%400 == 0:\n",
    "            print('The year is a leap year, it has 366 days')\n",
    "        else:\n",
    "            print('The year is not a leap year as it has 365 days in it')\n",
    "    else:\n",
    "        print('The year is a leap year, it has 366 days')\n",
    "else:\n",
    "    print('The year is not a leap year as it has 365 days in it')"
   ]
  },
  {
   "cell_type": "markdown",
   "id": "c810a405-0872-42e4-83d9-7c2303841b76",
   "metadata": {},
   "source": [
    "### Create a program that checks whether a character is a vowel or a consonant."
   ]
  },
  {
   "cell_type": "code",
   "execution_count": 30,
   "id": "cb64084f-347f-40e1-b70f-b2ecdaf654a0",
   "metadata": {},
   "outputs": [
    {
     "name": "stdin",
     "output_type": "stream",
     "text": [
      "Enter a letter from the english alphabet:  e\n"
     ]
    },
    {
     "name": "stdout",
     "output_type": "stream",
     "text": [
      "The letter entered is a vowel\n"
     ]
    }
   ],
   "source": [
    "vowels = 'AEIOUaeiou'\n",
    "\n",
    "\n",
    "# Get innput from the user\n",
    "char = input('Enter a letter from the english alphabet: ')\n",
    "\n",
    "# looping through to check if the letter is a vowel or consonant\n",
    "\n",
    "if char in vowels:\n",
    "    print('The letter entered is a vowel')\n",
    "elif len(char)>1:\n",
    "    print('Input is more than one letter, please enter again')\n",
    "else:\n",
    "    print('The letter you entered is a consonant')\n",
    "    "
   ]
  },
  {
   "cell_type": "markdown",
   "id": "95cf53c9-11ff-459e-8033-df1824d174e0",
   "metadata": {},
   "source": [
    "###  Implement a program to determine whether a given number is even or odd."
   ]
  },
  {
   "cell_type": "code",
   "execution_count": 32,
   "id": "80f05bd9-eda5-4d07-9690-0fc4746f7088",
   "metadata": {},
   "outputs": [
    {
     "name": "stdin",
     "output_type": "stream",
     "text": [
      "Please enter any number:  745\n"
     ]
    },
    {
     "name": "stdout",
     "output_type": "stream",
     "text": [
      "The number you entered is an odd number\n"
     ]
    }
   ],
   "source": [
    "# Get the input from the user\n",
    "\n",
    "given_num = int(input('Please enter any number: '))\n",
    "\n",
    "if given_num%2 == 0:\n",
    "    print('The number you entered is an even number')\n",
    "else:\n",
    "    print('The number you entered is an odd number')"
   ]
  },
  {
   "cell_type": "markdown",
   "id": "6e999809-c140-4083-8389-a2b5c19ee455",
   "metadata": {},
   "source": [
    "###  Write a Python function to calculate the absolute value of a number without using the `abs()` function."
   ]
  },
  {
   "cell_type": "code",
   "execution_count": 39,
   "id": "643fbcb0-9918-4344-9939-40eefbdf93a7",
   "metadata": {},
   "outputs": [
    {
     "name": "stdin",
     "output_type": "stream",
     "text": [
      "Enter any negative or positive number:  -5\n"
     ]
    },
    {
     "name": "stdout",
     "output_type": "stream",
     "text": [
      "The absolute value of number entered is 5\n"
     ]
    }
   ],
   "source": [
    "value = int(input('Enter any negative or positive number: '))\n",
    "\n",
    "if value >= 0:\n",
    "    print(f'The absolute value of number entered is {value}')\n",
    "else:\n",
    "    print(f'The absolute value of number entered is {-value}')"
   ]
  },
  {
   "cell_type": "markdown",
   "id": "00b85140-fb7c-466b-8f84-db97761d9071",
   "metadata": {},
   "source": [
    "###  Develop a program that determines the largest of three given numbers using if-else statements."
   ]
  },
  {
   "cell_type": "code",
   "execution_count": 49,
   "id": "9d2b36fd-5be0-4b29-90b4-0c11195077ba",
   "metadata": {},
   "outputs": [
    {
     "name": "stdin",
     "output_type": "stream",
     "text": [
      "Enter your first number:  7\n",
      "Enter your second number:  5\n",
      "Enter your third number:  14\n"
     ]
    },
    {
     "name": "stdout",
     "output_type": "stream",
     "text": [
      "14is the largest\n"
     ]
    }
   ],
   "source": [
    "# Get input from the user\n",
    "\n",
    "num1 = int(input('Enter your first number: '))\n",
    "num2 = int(input('Enter your second number: '))\n",
    "num3 = int(input('Enter your third number: '))\n",
    "                      \n",
    "# compare the two nubmers to get the maximum among them\n",
    "\n",
    "if num1 > num2 and num1 > num3:\n",
    "    print(f'{num1} is the largest number')\n",
    "elif num2 > num1 and num2 > num3:\n",
    "    print(f'{num2} is the largest number')\n",
    "else:\n",
    "    print(f'{num3} is the largest')\n",
    "    \n",
    "    "
   ]
  },
  {
   "cell_type": "markdown",
   "id": "11e65cc1-3e4d-4afe-ade1-76dd31837cd1",
   "metadata": {},
   "source": [
    "###  Create a program that checks if a given string is a palindrome."
   ]
  },
  {
   "cell_type": "code",
   "execution_count": 1,
   "id": "64dee3eb-c415-460f-8893-4d5cda45a700",
   "metadata": {},
   "outputs": [
    {
     "name": "stdin",
     "output_type": "stream",
     "text": [
      "Enter a string:  Annointing\n"
     ]
    },
    {
     "data": {
      "text/plain": [
       "'The string is not a palindrome.'"
      ]
     },
     "execution_count": 1,
     "metadata": {},
     "output_type": "execute_result"
    }
   ],
   "source": [
    "#Getting the input from the user\n",
    "input_string = input(\"Enter a string: \")\n",
    "\n",
    "cleaned_str = input_string.replace(\" \", \"\").lower()\n",
    "is_palindrome = cleaned_str == cleaned_str[::-1]\n",
    "output = [\"not a\", \"\"][is_palindrome]\n",
    "\n",
    "# using the f sting format \n",
    "output = (f\"The string is {output} palindrome.\")\n",
    "\n",
    "#print to check the output\n",
    "output"
   ]
  },
  {
   "cell_type": "markdown",
   "id": "65049b37-d4b6-411a-aac1-affdb4bb21ea",
   "metadata": {},
   "source": [
    " ### Write a Python program to calculate the grade based on a student's score."
   ]
  },
  {
   "cell_type": "code",
   "execution_count": 6,
   "id": "7724a5f7-70dd-4e9f-947b-f6307548b602",
   "metadata": {},
   "outputs": [
    {
     "name": "stdin",
     "output_type": "stream",
     "text": [
      "Enter the student's score 60\n"
     ]
    },
    {
     "name": "stdout",
     "output_type": "stream",
     "text": [
      "The student's grade is: B\n"
     ]
    }
   ],
   "source": [
    "# Get the student's score\n",
    "\n",
    "student_score = int(input(\"Enter the student's score\"))\n",
    "\n",
    "# check where the grade of the student\n",
    "if student_score >= 70 and student_score <= 100:\n",
    "    print(\"The student's grade is: A\")\n",
    "elif student_score >= 60 and student_score < 70:\n",
    "    print(\"The student's grade is: B\")\n",
    "elif student_score >= 50 and student_score < 60:\n",
    "    print(\"The student's grade is: C\")\n",
    "elif student_score >= 45 and student_score < 50:\n",
    "    print(\"The student's grade is: D\")\n",
    "elif student_score >= 40 and student_score < 45:\n",
    "    print(\"The student's grade is: E\")\n",
    "else:\n",
    "    print('The student failed the exam')"
   ]
  },
  {
   "cell_type": "markdown",
   "id": "e1e236b2-ff55-4858-9baa-e6cc22363cdc",
   "metadata": {},
   "source": [
    "### Write a program to find the largest among three numbers using nested if-else statements"
   ]
  },
  {
   "cell_type": "code",
   "execution_count": 10,
   "id": "67814322-9e40-4a92-97fa-dc7960007e30",
   "metadata": {},
   "outputs": [
    {
     "name": "stdin",
     "output_type": "stream",
     "text": [
      "Enter your first number:  14\n",
      "Enter your second number:  2\n",
      "Enter your third number:  7\n"
     ]
    },
    {
     "name": "stdout",
     "output_type": "stream",
     "text": [
      "The largest number among 14, 2, and 7 is 14\n"
     ]
    }
   ],
   "source": [
    "# Get input from the user\n",
    "\n",
    "num1 = int(input('Enter your first number: '))\n",
    "num2 = int(input('Enter your second number: '))\n",
    "num3 = int(input('Enter your third number: '))\n",
    "                      \n",
    "# compare the two nubmers to get the maximum among them\n",
    "# Compare the three numbers to find the largest\n",
    "if num1 >= num2:\n",
    "    if num1 >= num3:\n",
    "        largest = num1\n",
    "    else:\n",
    "        largest = num3\n",
    "else:\n",
    "    if num2 >= num3:\n",
    "        largest = num2\n",
    "    else:\n",
    "        largest = num3\n",
    "\n",
    "# Print the largest number\n",
    "print(f'The largest number among {num1}, {num2}, and {num3} is {largest}')"
   ]
  },
  {
   "cell_type": "markdown",
   "id": "0d7c49d8-aa24-4e99-b722-ef91a4ea3f76",
   "metadata": {},
   "source": [
    "###  Implement a program to determine if a triangle is equilateral, isosceles, or scalene."
   ]
  },
  {
   "cell_type": "code",
   "execution_count": 11,
   "id": "f125e2fd-922e-45b5-a6e8-de4fc98554d4",
   "metadata": {},
   "outputs": [
    {
     "name": "stdin",
     "output_type": "stream",
     "text": [
      "Enter the length of the first side:  5\n",
      "Enter the length of the second side:  4\n",
      "Enter the length of the third side:  6\n"
     ]
    },
    {
     "name": "stdout",
     "output_type": "stream",
     "text": [
      "The triangle is scalene.\n"
     ]
    }
   ],
   "source": [
    "# Input: Get the lengths of the three sides of the triangle\n",
    "side1 = float(input(\"Enter the length of the first side: \"))\n",
    "side2 = float(input(\"Enter the length of the second side: \"))\n",
    "side3 = float(input(\"Enter the length of the third side: \"))\n",
    "\n",
    "# Check if the triangle is valid\n",
    "if side1 + side2 > side3 and side1 + side3 > side2 and side2 + side3 > side1:\n",
    "    # Check the type of triangle\n",
    "    if side1 == side2 == side3:\n",
    "        triangle_type = \"equilateral\"\n",
    "    elif side1 == side2 or side1 == side3 or side2 == side3:\n",
    "        triangle_type = \"isosceles\"\n",
    "    else:\n",
    "        triangle_type = \"scalene\"\n",
    "    \n",
    "    # Print the type of triangle\n",
    "    print(f\"The triangle is {triangle_type}.\")\n",
    "else:\n",
    "    print(\"Invalid triangle. The sum of the lengths of any two sides must be greater than the length of the third side.\")"
   ]
  },
  {
   "cell_type": "markdown",
   "id": "9417aa59-ec13-4a5b-bbe9-d6d66af2a5ff",
   "metadata": {},
   "source": [
    "###  Develop a program that checks if a year is a leap year and also if it is a century year."
   ]
  },
  {
   "cell_type": "code",
   "execution_count": 1,
   "id": "2e3cff13-cfd5-43f8-8f16-059e5fa9992f",
   "metadata": {},
   "outputs": [
    {
     "name": "stdin",
     "output_type": "stream",
     "text": [
      "Enter a year:  2004\n"
     ]
    },
    {
     "name": "stdout",
     "output_type": "stream",
     "text": [
      "2004 is a leap year but not a century year.\n"
     ]
    }
   ],
   "source": [
    "# Input: Get the year as an integer from the user\n",
    "year = int(input(\"Enter a year: \"))\n",
    "\n",
    "# Check if it's a leap year\n",
    "is_leap_year = False\n",
    "if year % 4 == 0:\n",
    "    if year % 100 == 0:\n",
    "        if year % 400 == 0:\n",
    "            is_leap_year = True\n",
    "    else:\n",
    "        is_leap_year = True\n",
    "\n",
    "# Check if it's a century year\n",
    "is_century_year = year % 100 == 0\n",
    "\n",
    "# Print the results\n",
    "if is_leap_year:\n",
    "    if is_century_year:\n",
    "        print(f\"{year} is a leap year and a century year.\")\n",
    "    else:\n",
    "        print(f\"{year} is a leap year but not a century year.\")\n",
    "else:\n",
    "    if is_century_year:\n",
    "        print(f\"{year} is not a leap year but is a century year.\")\n",
    "    else:\n",
    "        print(f\"{year} is neither a leap year nor a century year.\")"
   ]
  },
  {
   "cell_type": "markdown",
   "id": "fc1f3c66-5626-4a69-95c9-4f6fe3bb6666",
   "metadata": {},
   "source": [
    "### Write a Python script to determine if a number is positive, negative, or zero."
   ]
  },
  {
   "cell_type": "code",
   "execution_count": 4,
   "id": "2619256d-6d3e-4a9c-a5a9-41fdadd9259f",
   "metadata": {},
   "outputs": [
    {
     "name": "stdin",
     "output_type": "stream",
     "text": [
      "Enter your number:  5\n"
     ]
    },
    {
     "name": "stdout",
     "output_type": "stream",
     "text": [
      "The number entered is a positive number\n"
     ]
    }
   ],
   "source": [
    "# Get numbers from the user\n",
    "\n",
    "number_check = int(input('Enter your number: '))\n",
    "\n",
    "if number_check > 0:\n",
    "    print('The number entered is a positive number')\n",
    "elif number_check < 0:\n",
    "    print('The number you entered is a negative number')\n",
    "else:\n",
    "    print('The number is zero')"
   ]
  },
  {
   "cell_type": "markdown",
   "id": "f0a8be03-c3b6-4d98-828d-c90656b81ae3",
   "metadata": {},
   "source": [
    "###  Create a program to check if a person is a teenager (between 13 and 19 years old)."
   ]
  },
  {
   "cell_type": "code",
   "execution_count": 11,
   "id": "042aae3b-c7bf-4bb9-9717-7fb77861769e",
   "metadata": {},
   "outputs": [
    {
     "name": "stdin",
     "output_type": "stream",
     "text": [
      "Enter the person's age 15\n"
     ]
    },
    {
     "name": "stdout",
     "output_type": "stream",
     "text": [
      "The person is a teenager\n"
     ]
    }
   ],
   "source": [
    "# Get the student's score\n",
    "\n",
    "age = int(input(\"Enter the person's age\"))\n",
    "\n",
    "# check where the grade of the student\n",
    "if age >= 13 and age <= 19:\n",
    "    print(\"The person is a teenager\")\n",
    "elif age > 19:\n",
    "    print('The person is an adult')\n",
    "else:\n",
    "    print('The person belong to children category')"
   ]
  },
  {
   "cell_type": "markdown",
   "id": "d60d6cc8-2ed5-40a4-97d0-28f575096399",
   "metadata": {},
   "source": [
    "### Develop a program that determines the type of angle based on its measure (acute, obtuse, or right)."
   ]
  },
  {
   "cell_type": "code",
   "execution_count": 13,
   "id": "4adf1371-34b6-4415-9901-5d58a65db452",
   "metadata": {},
   "outputs": [
    {
     "name": "stdin",
     "output_type": "stream",
     "text": [
      "Enter your angle size in degrees:  140\n"
     ]
    },
    {
     "name": "stdout",
     "output_type": "stream",
     "text": [
      "It is an obtuse angle\n"
     ]
    }
   ],
   "source": [
    "# Get input from the user\n",
    "\n",
    "angle_size = int(input('Enter your angle size in degrees: '))\n",
    "\n",
    "if angle_size < 90:\n",
    "    print('It is an acute angle')\n",
    "elif angle_size > 90:\n",
    "    print('It is an obtuse angle')\n",
    "else:\n",
    "    print('It is a right angle')\n",
    "    "
   ]
  },
  {
   "cell_type": "markdown",
   "id": "27d73ed8-f0ee-4f2d-946f-ef5dc2e7870e",
   "metadata": {},
   "source": [
    "### Write a Python program to calculate the roots of a quadratic equation"
   ]
  },
  {
   "cell_type": "code",
   "execution_count": 15,
   "id": "2af65b26-d8c0-4b35-9b9a-b75967f980b4",
   "metadata": {},
   "outputs": [
    {
     "name": "stdin",
     "output_type": "stream",
     "text": [
      "Enter the coefficient a:  3\n",
      "Enter the coefficient b:  4\n",
      "Enter the coefficient c:  5\n"
     ]
    },
    {
     "name": "stdout",
     "output_type": "stream",
     "text": [
      "Complex roots: -0.6666666666666666 + 1.1055415967851332i and -0.6666666666666666 - 1.1055415967851332i\n"
     ]
    }
   ],
   "source": [
    "# Input: Get the coefficients (a, b, c) of the quadratic equation from the user\n",
    "a = float(input(\"Enter the coefficient a: \"))\n",
    "b = float(input(\"Enter the coefficient b: \"))\n",
    "c = float(input(\"Enter the coefficient c: \"))\n",
    "\n",
    "# Calculate the discriminant\n",
    "discriminant = b**2 - 4*a*c\n",
    "\n",
    "# Check the type and number of roots\n",
    "if discriminant > 0:\n",
    "    # Two real and distinct roots\n",
    "    root1 = (-b + (discriminant ** 0.5)) / (2*a)\n",
    "    root2 = (-b - (discriminant ** 0.5)) / (2*a)\n",
    "    print(f\"Two real and distinct roots: {root1} and {root2}\")\n",
    "elif discriminant == 0:\n",
    "    # One real root (double root)\n",
    "    root = -b / (2*a)\n",
    "    print(f\"One real root (double root): {root}\")\n",
    "else:\n",
    "    # Complex roots\n",
    "    real_part = -b / (2*a)\n",
    "    imaginary_part = (abs(discriminant) ** 0.5) / (2*a)\n",
    "    print(f\"Complex roots: {real_part} + {imaginary_part}i and {real_part} - {imaginary_part}i\")"
   ]
  },
  {
   "cell_type": "markdown",
   "id": "6a2dc25d-3736-4c6f-8d2d-8e07f65920e6",
   "metadata": {},
   "source": [
    "###  Implement a program to determine the day of the week based on a user-provided number (1 for Monday, 2 for Tuesday, etc.)."
   ]
  },
  {
   "cell_type": "code",
   "execution_count": 27,
   "id": "ca6ad660-5825-463b-9b14-f4fd6f572999",
   "metadata": {},
   "outputs": [
    {
     "name": "stdin",
     "output_type": "stream",
     "text": [
      "Enter numbers between 1 and 7:  3\n"
     ]
    },
    {
     "name": "stdout",
     "output_type": "stream",
     "text": [
      "It's Wednesday\n"
     ]
    }
   ],
   "source": [
    "# Get input from the user\n",
    "\n",
    "user = int(input('Enter numbers between 1 and 7: '))\n",
    "\n",
    "if user == 1:\n",
    "    print(\"It's Monday\")\n",
    "elif user == 2:\n",
    "    print(\"It's tuesday\")\n",
    "elif user == 3:\n",
    "    print(\"It's Wednesday\")\n",
    "elif user == 4:\n",
    "    print(\"It's Thursday\")\n",
    "elif user == 5:\n",
    "    print(\"It's Friday\")\n",
    "elif user == 6:\n",
    "    print(\"It's Saturday\")\n",
    "elif user == 7:\n",
    "    print(\"It's Sunday\")\n",
    "else:\n",
    "    print('Incorrect entry, please try again with numbers between 1 and 7')"
   ]
  },
  {
   "cell_type": "markdown",
   "id": "10cd301a-68f9-4747-9d61-3812b5578b9b",
   "metadata": {},
   "source": [
    "###  Create a program that determines if a year is a leap year and also if it is evenly divisible by 400."
   ]
  },
  {
   "cell_type": "code",
   "execution_count": 28,
   "id": "c5edbe7f-66b3-42a7-8bb3-c2a35bc778fd",
   "metadata": {},
   "outputs": [
    {
     "name": "stdin",
     "output_type": "stream",
     "text": [
      "Enter a year:  2000\n"
     ]
    },
    {
     "name": "stdout",
     "output_type": "stream",
     "text": [
      "2000 is a leap year.\n"
     ]
    }
   ],
   "source": [
    "# Input: Get the year as an integer from the user\n",
    "year = int(input(\"Enter a year: \"))\n",
    "\n",
    "# Check if it's a leap year\n",
    "if (year % 4 == 0 and year % 100 != 0) or (year % 400 == 0):\n",
    "    print(f\"{year} is a leap year.\")\n",
    "else:\n",
    "    print(f\"{year} is not a leap year.\")"
   ]
  },
  {
   "cell_type": "markdown",
   "id": "264d4060-e72c-4c7e-81d8-d6da5cb921d5",
   "metadata": {},
   "source": [
    "### Develop a program that checks if a given number is prime or not using nested if-else statements."
   ]
  },
  {
   "cell_type": "code",
   "execution_count": 32,
   "id": "24f36857-ceb2-4f3f-929e-bab131ba7fbe",
   "metadata": {},
   "outputs": [
    {
     "name": "stdin",
     "output_type": "stream",
     "text": [
      "Enter any number:  41\n"
     ]
    },
    {
     "name": "stdout",
     "output_type": "stream",
     "text": [
      "41 is a prime number.\n"
     ]
    }
   ],
   "source": [
    "# a whole number greater than 1 that cannot be exactly divided by any whole number other than itself and 1 (e.g. 2, 3, 5, 7, 11).\n",
    "\n",
    "# Get user input\n",
    "\n",
    "num = int(input('Enter any number: '))\n",
    "\n",
    "# Check if it's a prime number\n",
    "if num <= 1:\n",
    "    prime = False\n",
    "else:\n",
    "    prime = True\n",
    "    for i in range(2, num):\n",
    "        if num % i == 0:\n",
    "            prime = False\n",
    "            break\n",
    "\n",
    "# Output: Print the result\n",
    "if prime:\n",
    "    print(f\"{num} is a prime number.\")\n",
    "else:\n",
    "    print(f\"{num} is not a prime number.\")\n"
   ]
  },
  {
   "cell_type": "markdown",
   "id": "530e98d3-4934-4619-94f7-e049e353992f",
   "metadata": {},
   "source": [
    "###  Write a Python program to assign grades based on different ranges of scores using elif statements."
   ]
  },
  {
   "cell_type": "code",
   "execution_count": 33,
   "id": "0827f282-4949-4f94-8cdf-fa6733e23aa4",
   "metadata": {},
   "outputs": [
    {
     "name": "stdin",
     "output_type": "stream",
     "text": [
      "Enter the student's score 77\n"
     ]
    },
    {
     "name": "stdout",
     "output_type": "stream",
     "text": [
      "The student's grade is: A\n"
     ]
    }
   ],
   "source": [
    "# Get the student's score\n",
    "\n",
    "student_score = int(input(\"Enter the student's score\"))\n",
    "\n",
    "# check where the grade of the student\n",
    "if student_score >= 70 and student_score <= 100:\n",
    "    print(\"The student's grade is: A\")\n",
    "elif student_score >= 60 and student_score < 70:\n",
    "    print(\"The student's grade is: B\")\n",
    "elif student_score >= 50 and student_score < 60:\n",
    "    print(\"The student's grade is: C\")\n",
    "elif student_score >= 45 and student_score < 50:\n",
    "    print(\"The student's grade is: D\")\n",
    "elif student_score >= 40 and student_score < 45:\n",
    "    print(\"The student's grade is: E\")\n",
    "else:\n",
    "    print('The student failed the exam')"
   ]
  },
  {
   "cell_type": "markdown",
   "id": "afaeea3a-5183-4e11-afb1-91adc89da261",
   "metadata": {},
   "source": [
    "###  Implement a program to determine the type of a triangle based on its angles."
   ]
  },
  {
   "cell_type": "code",
   "execution_count": 35,
   "id": "af7989f0-e02b-473e-8bd1-c013331653ce",
   "metadata": {},
   "outputs": [
    {
     "name": "stdin",
     "output_type": "stream",
     "text": [
      "Enter the first angle (in degrees):  95\n",
      "Enter the second angle (in degrees):  180\n",
      "Enter the third angle (in degrees):  60\n"
     ]
    },
    {
     "name": "stdout",
     "output_type": "stream",
     "text": [
      "Invalid triangle (angles do not add up to 180 degrees).\n"
     ]
    }
   ],
   "source": [
    "# Input: Get the three angles of the triangle from the user\n",
    "angle1 = float(input(\"Enter the first angle (in degrees): \"))\n",
    "angle2 = float(input(\"Enter the second angle (in degrees): \"))\n",
    "angle3 = float(input(\"Enter the third angle (in degrees): \"))\n",
    "\n",
    "# Check the type of triangle based on angles\n",
    "if angle1 + angle2 + angle3 == 180:\n",
    "    if angle1 == angle2 == angle3:\n",
    "        triangle_type = \"Equilateral\"\n",
    "    elif angle1 == angle2 or angle2 == angle3 or angle1 == angle3:\n",
    "        triangle_type = \"Isosceles\"\n",
    "    else:\n",
    "        triangle_type = \"Scalene\"\n",
    "else:\n",
    "    triangle_type = \"Invalid\"\n",
    "\n",
    "# Output: Print the type of triangle\n",
    "if triangle_type == \"Invalid\":\n",
    "    print(\"Invalid triangle (angles do not add up to 180 degrees).\")\n",
    "else:\n",
    "    print(f\"It's a {triangle_type} triangle.\")"
   ]
  },
  {
   "cell_type": "markdown",
   "id": "807abfad-d60a-4575-8b57-af344774ca26",
   "metadata": {},
   "source": [
    "### 23. Develop a program to categorize a given person's BMI into underweight, normal, overweight, or obese using elif statements"
   ]
  },
  {
   "cell_type": "code",
   "execution_count": 37,
   "id": "db58c752-d56d-489d-acf2-b963f145b97e",
   "metadata": {},
   "outputs": [
    {
     "name": "stdin",
     "output_type": "stream",
     "text": [
      "Enter your weight in kg:  45\n",
      "Enter your weight in m:  6\n"
     ]
    },
    {
     "name": "stdout",
     "output_type": "stream",
     "text": [
      "You are underweight\n"
     ]
    }
   ],
   "source": [
    "\n",
    "weight = float(input('Enter your weight in kg: '))\n",
    "height = float(input('Enter your weight in m: '))\n",
    "\n",
    "BMI  = weight/height**2\n",
    "\n",
    "if BMI < 18.5:\n",
    "    print('You are underweight')\n",
    "elif BMI >= 18.5 and BMI < 25:\n",
    "    print('You have a normal weight')\n",
    "elif BMI >= 25.0 and BMI < 30:\n",
    "    print('You are overweight')\n",
    "else:\n",
    "    print('You are obess')\n"
   ]
  },
  {
   "cell_type": "markdown",
   "id": "0e1c3bc7-45bb-44fc-95e4-c19647429ca7",
   "metadata": {},
   "source": [
    "### 24. Create a program that determines whether a given number is positive, negative, or zero using elif statements."
   ]
  },
  {
   "cell_type": "code",
   "execution_count": 40,
   "id": "42f30875-bf90-4ef5-afad-e22bb15345f7",
   "metadata": {},
   "outputs": [
    {
     "name": "stdin",
     "output_type": "stream",
     "text": [
      "Enter your number:  -5\n"
     ]
    },
    {
     "name": "stdout",
     "output_type": "stream",
     "text": [
      "The number you entered is a negative number\n"
     ]
    }
   ],
   "source": [
    "# Get numbers from the user\n",
    "\n",
    "given_number = int(input('Enter your number: '))\n",
    "\n",
    "if given_number > 0:\n",
    "    print('The number entered is a positive number')\n",
    "elif given_number < 0:\n",
    "    print('The number you entered is a negative number')\n",
    "else:\n",
    "    print('The number is zero')"
   ]
  },
  {
   "cell_type": "markdown",
   "id": "3dc7f92b-92c8-47c5-8c88-94a43fc62ef4",
   "metadata": {},
   "source": [
    "### 25. Write a Python script to determine the type of a character (uppercase, lowercase, or special) using elif statements"
   ]
  },
  {
   "cell_type": "code",
   "execution_count": 6,
   "id": "4e1d13f2-5b8b-4662-9300-3045f2ded346",
   "metadata": {},
   "outputs": [
    {
     "name": "stdin",
     "output_type": "stream",
     "text": [
      "Enter a letter from the english alphabet #\n"
     ]
    },
    {
     "name": "stdout",
     "output_type": "stream",
     "text": [
      "It is a special character\n"
     ]
    }
   ],
   "source": [
    "# Get character from user\n",
    "\n",
    "char = input('Enter a letter from the english alphabet')\n",
    "\n",
    "upper = 'ABCDEFGHIJKLMNOPQRSTUVWXYZ'\n",
    "lower = 'abcdefghijklmnopqrstuvwxyz'\n",
    "\n",
    "if char in upper:\n",
    "    print('The letter you entered is an uppercase')\n",
    "elif char in lower:\n",
    "    print('The letter you entered is a lowercasea character')\n",
    "elif len(char) > 1:\n",
    "    print('You entered more than one letter, please try again')\n",
    "else:\n",
    "    print('It is a special character')\n",
    "    "
   ]
  },
  {
   "cell_type": "markdown",
   "id": "47baa8bc-b90e-411a-ba53-a1ecbe45f882",
   "metadata": {},
   "source": [
    "### 26. Implement a program to calculate the discounted price based on different purchase amounts using elif statements"
   ]
  },
  {
   "cell_type": "code",
   "execution_count": 7,
   "id": "195064a7-a361-4c46-993a-511714266f5f",
   "metadata": {},
   "outputs": [
    {
     "name": "stdin",
     "output_type": "stream",
     "text": [
      "Enter the purchase amount:  800\n"
     ]
    },
    {
     "name": "stdout",
     "output_type": "stream",
     "text": [
      "Discounted Price: $760.00\n"
     ]
    }
   ],
   "source": [
    "# Input: Get the purchase amount from the user\n",
    "purchase_amount = float(input(\"Enter the purchase amount: \"))\n",
    "\n",
    "# Calculate the discounted price based on purchase amount\n",
    "if purchase_amount >= 1000:\n",
    "    discount_rate = 0.1  # 10% discount for purchases of $1000 or more\n",
    "elif purchase_amount >= 500:\n",
    "    discount_rate = 0.05  # 5% discount for purchases between $500 and $999.99\n",
    "else:\n",
    "    discount_rate = 0.0  # No discount for purchases less than $500\n",
    "\n",
    "# Calculate the discounted price\n",
    "discounted_price = purchase_amount - (purchase_amount * discount_rate)\n",
    "\n",
    "# Output: Print the discounted price\n",
    "print(f\"Discounted Price: ${discounted_price:.2f}\")"
   ]
  },
  {
   "cell_type": "markdown",
   "id": "1fe495da-21f6-4013-93a4-62031a39883c",
   "metadata": {},
   "source": [
    "### 27. Develop a program to calculate the electricity bill based on different consumption slabs using elif statements."
   ]
  },
  {
   "cell_type": "code",
   "execution_count": 8,
   "id": "d38e6ae8-80a9-47cd-b918-c5081e99eaee",
   "metadata": {},
   "outputs": [
    {
     "name": "stdin",
     "output_type": "stream",
     "text": [
      "Enter your electricity consumption in kWh:  52\n"
     ]
    },
    {
     "name": "stdout",
     "output_type": "stream",
     "text": [
      "Your electricity bill is: $26.50\n"
     ]
    }
   ],
   "source": [
    "# Input: Get the electricity consumption from the user\n",
    "consumption = float(input(\"Enter your electricity consumption in kWh: \"))\n",
    "\n",
    "# Calculate the electricity bill based on consumption slabs\n",
    "if consumption <= 50:\n",
    "    # For consumption up to 50 kWh, the rate is $0.50 per kWh\n",
    "    bill = consumption * 0.50\n",
    "elif consumption <= 100:\n",
    "    # For consumption between 51 kWh and 100 kWh, the rate is $0.75 per kWh\n",
    "    bill = 50 * 0.50 + (consumption - 50) * 0.75\n",
    "elif consumption <= 200:\n",
    "    # For consumption between 101 kWh and 200 kWh, the rate is $1.00 per kWh\n",
    "    bill = 50 * 0.50 + 50 * 0.75 + (consumption - 100) * 1.00\n",
    "else:\n",
    "    # For consumption over 200 kWh, the rate is $1.25 per kWh\n",
    "    bill = 50 * 0.50 + 50 * 0.75 + 100 * 1.00 + (consumption - 200) * 1.25\n",
    "\n",
    "# Output: Print the electricity bill\n",
    "print(f\"Your electricity bill is: ${bill:.2f}\")"
   ]
  },
  {
   "cell_type": "markdown",
   "id": "3d274f2d-0fdb-47de-8989-684a4389404c",
   "metadata": {},
   "source": [
    "###  Create a program to determine the type of quadrilateral based on its angles and sides using elif statements."
   ]
  },
  {
   "cell_type": "code",
   "execution_count": 9,
   "id": "2357dd84-5962-4d85-81ca-68a7f945b075",
   "metadata": {},
   "outputs": [
    {
     "name": "stdin",
     "output_type": "stream",
     "text": [
      "Enter the first angle (in degrees):  40\n",
      "Enter the second angle (in degrees):  52\n",
      "Enter the third angle (in degrees):  85\n",
      "Enter the fourth angle (in degrees):  65\n",
      "Enter the length of the first side:  6\n",
      "Enter the length of the second side:  5\n",
      "Enter the length of the third side:  8\n",
      "Enter the length of the fourth side:  2\n"
     ]
    },
    {
     "name": "stdout",
     "output_type": "stream",
     "text": [
      "It's a Quadrilateral.\n"
     ]
    }
   ],
   "source": [
    "# Input: Get the angles and sides of the quadrilateral from the user\n",
    "angle1 = float(input(\"Enter the first angle (in degrees): \"))\n",
    "angle2 = float(input(\"Enter the second angle (in degrees): \"))\n",
    "angle3 = float(input(\"Enter the third angle (in degrees): \"))\n",
    "angle4 = float(input(\"Enter the fourth angle (in degrees): \"))\n",
    "side1 = float(input(\"Enter the length of the first side: \"))\n",
    "side2 = float(input(\"Enter the length of the second side: \"))\n",
    "side3 = float(input(\"Enter the length of the third side: \"))\n",
    "side4 = float(input(\"Enter the length of the fourth side: \"))\n",
    "\n",
    "# Check the type of quadrilateral based on angles and sides\n",
    "if angle1 == angle2 == angle3 == angle4 == 90:\n",
    "    if side1 == side2 == side3 == side4:\n",
    "        quadrilateral_type = \"Square\"\n",
    "    else:\n",
    "        quadrilateral_type = \"Rectangle\"\n",
    "elif angle1 == angle2 == angle3 == angle4:\n",
    "    if side1 == side2 == side3 == side4:\n",
    "        quadrilateral_type = \"Rhombus\"\n",
    "    else:\n",
    "        quadrilateral_type = \"Parallelogram\"\n",
    "else:\n",
    "    quadrilateral_type = \"Quadrilateral\"\n",
    "\n",
    "# Output: Print the type of quadrilateral\n",
    "print(f\"It's a {quadrilateral_type}.\")"
   ]
  },
  {
   "cell_type": "markdown",
   "id": "a5369bb0-bd8e-4590-aa61-6dc5fb5a1b2d",
   "metadata": {},
   "source": [
    "### 29. Write a Python script to determine the season based on a user-provided month using elif statements."
   ]
  },
  {
   "cell_type": "code",
   "execution_count": 14,
   "id": "8dbc664b-9687-4ed8-9a4c-595a15a4fd38",
   "metadata": {},
   "outputs": [
    {
     "name": "stdin",
     "output_type": "stream",
     "text": [
      "Enter any month of the year:  february\n"
     ]
    },
    {
     "name": "stdout",
     "output_type": "stream",
     "text": [
      "Based on your entry, February is found to be a season of winter\n"
     ]
    }
   ],
   "source": [
    "# Get input from the user\n",
    "\n",
    "month = input('Enter any month of the year: ').title()\n",
    "\n",
    "season1 = ['March', 'April', 'May']\n",
    "season2 = ['June', 'July', 'August']\n",
    "season3 = ['September', 'October', 'November']\n",
    "season4 = ['December', 'January', 'February']\n",
    "\n",
    "if month in season1:\n",
    "    season = 'Spring'\n",
    "elif month in season2:\n",
    "    season = 'Summer'\n",
    "elif month in season3:\n",
    "    season = 'Fall'\n",
    "elif month in season4:\n",
    "    season = 'winter'\n",
    "else:\n",
    "    print('Invalid')\n",
    "    \n",
    "# printing the season as entered by the user as output\n",
    "\n",
    "print(f'Based on your entry, {month} is found to be a season of {season}')"
   ]
  },
  {
   "cell_type": "markdown",
   "id": "a66a3171-e8c2-4520-9753-0dc1220819da",
   "metadata": {},
   "source": [
    "### 30. Implement a program to determine the type of a year (leap or common) and month (30 or 31 days) using elif statements."
   ]
  },
  {
   "cell_type": "code",
   "execution_count": 16,
   "id": "785732b0-243e-4a3b-9510-c661d5197b5e",
   "metadata": {},
   "outputs": [
    {
     "name": "stdin",
     "output_type": "stream",
     "text": [
      "Enter a year:  2015\n",
      "Enter a month (1-12):  8\n"
     ]
    },
    {
     "name": "stdout",
     "output_type": "stream",
     "text": [
      "Common Year - Month 8 has 31 days.\n"
     ]
    }
   ],
   "source": [
    "# Input: Get the year and month from the user\n",
    "year = int(input(\"Enter a year: \"))\n",
    "month = int(input(\"Enter a month (1-12): \"))\n",
    "\n",
    "# Check if the year is leap or common\n",
    "if (year % 4 == 0 and year % 100 != 0) or (year % 400 == 0):\n",
    "    year_type = \"Leap Year\"\n",
    "else:\n",
    "    year_type = \"Common Year\"\n",
    "\n",
    "# Check the number of days in the month\n",
    "if month in (4, 6, 9, 11):\n",
    "    month_days = 30\n",
    "elif month == 2:\n",
    "    if year_type == \"Leap Year\":\n",
    "        month_days = 29\n",
    "    else:\n",
    "        month_days = 28\n",
    "else:\n",
    "    month_days = 31\n",
    "\n",
    "# Output: Print the type of year and number of days in the month\n",
    "print(f\"{year_type} - Month {month} has {month_days} days.\")"
   ]
  },
  {
   "cell_type": "markdown",
   "id": "c8a1f8f6-95e7-466d-87a8-33b66ad3bd8d",
   "metadata": {},
   "source": [
    "###  Develop a program that calculates the factorial of a given number using recursion."
   ]
  },
  {
   "cell_type": "code",
   "execution_count": 18,
   "id": "c506f592-4005-460c-ad6d-8c23cd75d61c",
   "metadata": {},
   "outputs": [
    {
     "name": "stdin",
     "output_type": "stream",
     "text": [
      "Enter a number:  4\n"
     ]
    },
    {
     "name": "stdout",
     "output_type": "stream",
     "text": [
      "The factorial of 4 is 24\n"
     ]
    }
   ],
   "source": [
    "# Function to calculate the factorial of a number using recursion\n",
    "def factorial(n):\n",
    "    if n == 0:\n",
    "        return 1\n",
    "    else:\n",
    "        return n * factorial(n - 1)\n",
    "\n",
    "# Input: Get the number from the user\n",
    "n = int(input(\"Enter a number: \"))\n",
    "\n",
    "# Calculate the factorial using the factorial function\n",
    "result = factorial(n)\n",
    "\n",
    "# Output: Print the factorial\n",
    "print(f\"The factorial of {n} is {result}\")"
   ]
  },
  {
   "cell_type": "markdown",
   "id": "55af4b02-fdf3-4ad9-a7df-6cbde855debd",
   "metadata": {},
   "source": [
    "###  Create a program that simulates a basic ATM transaction menu"
   ]
  },
  {
   "cell_type": "code",
   "execution_count": 19,
   "id": "0d4985eb-1509-405f-b64f-1f3fe1bcf791",
   "metadata": {},
   "outputs": [
    {
     "name": "stdout",
     "output_type": "stream",
     "text": [
      "\n",
      "ATM Menu:\n",
      "1. Check Balance\n",
      "2. Deposit\n",
      "3. Withdraw\n",
      "4. Exit\n"
     ]
    },
    {
     "name": "stdin",
     "output_type": "stream",
     "text": [
      "Enter your choice (1/2/3/4):  3\n",
      "Enter the withdrawal amount: $ 500\n"
     ]
    },
    {
     "name": "stdout",
     "output_type": "stream",
     "text": [
      "Withdrawal of $500.0 was successful. Your new balance is $500.0\n",
      "\n",
      "ATM Menu:\n",
      "1. Check Balance\n",
      "2. Deposit\n",
      "3. Withdraw\n",
      "4. Exit\n"
     ]
    },
    {
     "name": "stdin",
     "output_type": "stream",
     "text": [
      "Enter your choice (1/2/3/4):  1\n"
     ]
    },
    {
     "name": "stdout",
     "output_type": "stream",
     "text": [
      "Your account balance is $500.0\n",
      "\n",
      "ATM Menu:\n",
      "1. Check Balance\n",
      "2. Deposit\n",
      "3. Withdraw\n",
      "4. Exit\n"
     ]
    },
    {
     "name": "stdin",
     "output_type": "stream",
     "text": [
      "Enter your choice (1/2/3/4):  1\n"
     ]
    },
    {
     "name": "stdout",
     "output_type": "stream",
     "text": [
      "Your account balance is $500.0\n",
      "\n",
      "ATM Menu:\n",
      "1. Check Balance\n",
      "2. Deposit\n",
      "3. Withdraw\n",
      "4. Exit\n"
     ]
    },
    {
     "name": "stdin",
     "output_type": "stream",
     "text": [
      "Enter your choice (1/2/3/4):  1\n"
     ]
    },
    {
     "name": "stdout",
     "output_type": "stream",
     "text": [
      "Your account balance is $500.0\n",
      "\n",
      "ATM Menu:\n",
      "1. Check Balance\n",
      "2. Deposit\n",
      "3. Withdraw\n",
      "4. Exit\n"
     ]
    },
    {
     "name": "stdin",
     "output_type": "stream",
     "text": [
      "Enter your choice (1/2/3/4):  4\n"
     ]
    },
    {
     "name": "stdout",
     "output_type": "stream",
     "text": [
      "Thank you for using the ATM. Goodbye!\n"
     ]
    }
   ],
   "source": [
    "# Initialize the account balance\n",
    "account_balance = 1000\n",
    "\n",
    "# Display the ATM menu in a loop\n",
    "while True:\n",
    "    print(\"\\nATM Menu:\")\n",
    "    print(\"1. Check Balance\")\n",
    "    print(\"2. Deposit\")\n",
    "    print(\"3. Withdraw\")\n",
    "    print(\"4. Exit\")\n",
    "\n",
    "    # Get the user's choice\n",
    "    choice = input(\"Enter your choice (1/2/3/4): \")\n",
    "\n",
    "    # Check the user's choice\n",
    "    if choice == '1':\n",
    "        print(f\"Your account balance is ${account_balance}\")\n",
    "    elif choice == '2':\n",
    "        deposit_amount = float(input(\"Enter the deposit amount: $\"))\n",
    "        account_balance += deposit_amount\n",
    "        print(f\"Deposit of ${deposit_amount} was successful. Your new balance is ${account_balance}\")\n",
    "    elif choice == '3':\n",
    "        withdrawal_amount = float(input(\"Enter the withdrawal amount: $\"))\n",
    "        if withdrawal_amount <= account_balance:\n",
    "            account_balance -= withdrawal_amount\n",
    "            print(f\"Withdrawal of ${withdrawal_amount} was successful. Your new balance is ${account_balance}\")\n",
    "        else:\n",
    "            print(\"Insufficient funds. Withdrawal failed.\")\n",
    "    elif choice == '4':\n",
    "        print(\"Thank you for using the ATM. Goodbye!\")\n",
    "        break\n",
    "    else:\n",
    "        print(\"Invalid choice. Please select a valid option (1/2/3/4).\")\n"
   ]
  },
  {
   "cell_type": "markdown",
   "id": "9e568cde-0594-41c3-9c6e-95594ca4e337",
   "metadata": {},
   "source": [
    "### Write a program that calculates the average of a list of numbers, excluding the smallest and largest values."
   ]
  },
  {
   "cell_type": "code",
   "execution_count": 20,
   "id": "227e0986-5726-423d-87c3-03f7d8be1366",
   "metadata": {},
   "outputs": [
    {
     "name": "stdin",
     "output_type": "stream",
     "text": [
      "Enter a list of numbers separated by spaces:  4 11 6 8\n"
     ]
    },
    {
     "name": "stdout",
     "output_type": "stream",
     "text": [
      "The average of the middle values is 7.0\n"
     ]
    }
   ],
   "source": [
    "# Input: Get a list of numbers from the user\n",
    "numbers = input(\"Enter a list of numbers separated by spaces: \").split()\n",
    "numbers = [float(num) for num in numbers]\n",
    "\n",
    "# Check if there are enough numbers for calculation\n",
    "if len(numbers) < 3:\n",
    "    print(\"There should be at least 3 numbers for calculation.\")\n",
    "else:\n",
    "    # Remove the smallest and largest values\n",
    "    numbers.remove(min(numbers))\n",
    "    numbers.remove(max(numbers))\n",
    "\n",
    "    # Calculate the average of the remaining numbers\n",
    "    average = sum(numbers) / len(numbers)\n",
    "\n",
    "    # Output: Print the average\n",
    "    print(f\"The average of the middle values is {average}\")"
   ]
  },
  {
   "cell_type": "markdown",
   "id": "8ce4b5f3-96aa-463c-807f-9e28de2c7287",
   "metadata": {},
   "source": [
    "###  Develop a program that converts a given temperature from Celsius to Fahrenheit."
   ]
  },
  {
   "cell_type": "code",
   "execution_count": 23,
   "id": "5c8c0442-a65f-474d-abe6-3e9326aa5dd4",
   "metadata": {},
   "outputs": [
    {
     "name": "stdin",
     "output_type": "stream",
     "text": [
      "Enter your celsius scale:  25\n"
     ]
    },
    {
     "name": "stdout",
     "output_type": "stream",
     "text": [
      "77.0 fahrenheit is equivalent to 25.0 celsius scale\n"
     ]
    }
   ],
   "source": [
    "# (celsius * 9/5) + 32\n",
    "celsius = float(input('Enter your celsius scale: '))\n",
    "\n",
    "#converting to fahrenheit and printing it\n",
    "fahrenheit = (celsius * 9/5) + 32\n",
    "\n",
    "# printing the output \n",
    "print(f'{fahrenheit} fahrenheit is equivalent to {celsius} celsius scale')"
   ]
  },
  {
   "cell_type": "markdown",
   "id": "15b3ce74-7b88-4ab7-bb5e-c32af60388f4",
   "metadata": {},
   "source": [
    "### Create a program that simulates a basic calculator for addition, subtraction, multiplication, and division"
   ]
  },
  {
   "cell_type": "code",
   "execution_count": 24,
   "id": "33b8a5d5-8b42-4166-9ceb-16969eb6a167",
   "metadata": {},
   "outputs": [
    {
     "name": "stdout",
     "output_type": "stream",
     "text": [
      "Select operation:\n",
      "1. Addition\n",
      "2. Subtraction\n",
      "3. Multiplication\n",
      "4. Division\n"
     ]
    },
    {
     "name": "stdin",
     "output_type": "stream",
     "text": [
      "Enter choice (1/2/3/4):  1\n",
      "Enter first number:  5\n",
      "Enter second number:  3\n"
     ]
    },
    {
     "name": "stdout",
     "output_type": "stream",
     "text": [
      "5.0 + 3.0 = 8.0\n"
     ]
    },
    {
     "name": "stdin",
     "output_type": "stream",
     "text": [
      "Do you want to perform another calculation? (yes/no):  no\n"
     ]
    },
    {
     "name": "stdout",
     "output_type": "stream",
     "text": [
      "Goodbye!\n"
     ]
    }
   ],
   "source": [
    "# Define the calculator function\n",
    "def calculator():\n",
    "    print(\"Select operation:\")\n",
    "    print(\"1. Addition\")\n",
    "    print(\"2. Subtraction\")\n",
    "    print(\"3. Multiplication\")\n",
    "    print(\"4. Division\")\n",
    "\n",
    "    # Get the user's choice\n",
    "    choice = input(\"Enter choice (1/2/3/4): \")\n",
    "\n",
    "    # Check if the choice is valid\n",
    "    if choice in ('1', '2', '3', '4'):\n",
    "        num1 = float(input(\"Enter first number: \"))\n",
    "        num2 = float(input(\"Enter second number: \"))\n",
    "\n",
    "        if choice == '1':\n",
    "            result = num1 + num2\n",
    "            print(f\"{num1} + {num2} = {result}\")\n",
    "        elif choice == '2':\n",
    "            result = num1 - num2\n",
    "            print(f\"{num1} - {num2} = {result}\")\n",
    "        elif choice == '3':\n",
    "            result = num1 * num2\n",
    "            print(f\"{num1} * {num2} = {result}\")\n",
    "        elif choice == '4':\n",
    "            if num2 == 0:\n",
    "                print(\"Error: Division by zero\")\n",
    "            else:\n",
    "                result = num1 / num2\n",
    "                print(f\"{num1} / {num2} = {result}\")\n",
    "    else:\n",
    "        print(\"Invalid input\")\n",
    "\n",
    "# Main program loop\n",
    "while True:\n",
    "    calculator()\n",
    "    another_calculation = input(\"Do you want to perform another calculation? (yes/no): \")\n",
    "    if another_calculation.lower() != 'yes':\n",
    "        print(\"Goodbye!\")\n",
    "        break\n"
   ]
  },
  {
   "cell_type": "markdown",
   "id": "d1981ffb-a8b0-4619-861c-adbae549072f",
   "metadata": {},
   "source": [
    "### Write a program that determines the roots of a cubic equation using the Cardano formula."
   ]
  },
  {
   "cell_type": "code",
   "execution_count": null,
   "id": "ee370c12-fc68-49cd-a08f-128b7580ce1f",
   "metadata": {},
   "outputs": [],
   "source": [
    "# Input coefficients of the cubic equation: ax^3 + bx^2 + cx + d = 0\n",
    "a = float(input(\"Enter the coefficient of x^3 (a): \"))\n",
    "b = float(input(\"Enter the coefficient of x^2 (b): \"))\n",
    "c = float(input(\"Enter the coefficient of x (c): \"))\n",
    "d = float(input(\"Enter the constant term (d): \"))\n",
    "\n",
    "# Calculate some intermediate values\n",
    "p = c / a - (b ** 2) / (3 * a ** 2)\n",
    "q = (2 * b ** 3) / (27 * a ** 3) - (b * c) / (3 * a ** 2) + d / a\n",
    "\n",
    "# Calculate discriminant\n",
    "discriminant = (q ** 2) / 4 + (p ** 3) / 27\n",
    "\n",
    "# Check if discriminant is positive or negative\n",
    "if discriminant > 0:\n",
    "    u = ((-q / 2) + (discriminant ** 0.5)) ** (1 / 3)\n",
    "    v = ((-q / 2) - (discriminant ** 0.5)) ** (1 / 3)\n",
    "    \n",
    "    # Calculate the roots\n",
    "    root1 = u + v - b / (3 * a)\n",
    "    root2 = -((u + v) / 2) - (b / (3 * a)) + ((u - v) * (3 ** 0.5)) / 2\n",
    "    root3 = -((u + v) / 2) - (b / (3 * a)) - ((u - v) * (3 ** 0.5)) / 2\n",
    "    \n",
    "    print(f\"The roots of the cubic equation are:\")\n",
    "    print(f\"Root 1 (Real): {root1}\")\n",
    "    print(f\"Root 2 (Real): {root2}\")\n",
    "    print(f\"Root 3 (Complex): {root3}\")\n",
    "    \n",
    "elif discriminant == 0:\n",
    "    u = ((-q / 2) ** (1 / 3))\n",
    "    \n",
    "    # Calculate the roots\n",
    "    root1 = 2 * u - b / (3 * a)\n",
    "    root2 = -u - b / (3 * a)\n",
    "    \n",
    "    print(f\"The roots of the cubic equation are:\")\n",
    "    print(f\"Root 1 (Real): {root1}\")\n",
    "    print(f\"Root 2 (Real): {root2}\")\n",
    "    \n",
    "else:\n",
    "    r = ((-(p ** 3) / 27) ** 0.5)\n",
    "    theta = (3 ** 0.5) * (q / (2 * r))\n",
    "    \n",
    "    # Calculate the roots\n",
    "    root1 = 2 * r * ((-q / 2) / abs(-q / 2)) * (abs(theta) ** (1 / 3)) * (math.cos(math.acos(theta) / 3)) - b / (3 * a)\n",
    "    root2 = 2 * r * ((-q / 2) / abs(-q / 2)) * (abs(theta) ** (1 / 3)) * (math.cos((math.acos(theta) + 2 * math.pi) / 3)) - b / (3 * a)\n",
    "    root3 = 2 * r * ((-q / 2) / abs(-q / 2)) * (abs(theta) ** (1 / 3)) * (math.cos((math.acos(theta) + 4 * math.pi) / 3)) - b / (3 * a)\n",
    "    \n",
    "    print(f\"The roots of the cubic equation are:\")\n",
    "    print(f\"Root 1 (Real): {root1}\")\n",
    "    print(f\"Root 2 (Complex): {root2}\")\n",
    "    print(f\"Root 3 (Complex): {root3}\")"
   ]
  }
 ],
 "metadata": {
  "kernelspec": {
   "display_name": "Python 3 (ipykernel)",
   "language": "python",
   "name": "python3"
  },
  "language_info": {
   "codemirror_mode": {
    "name": "ipython",
    "version": 3
   },
   "file_extension": ".py",
   "mimetype": "text/x-python",
   "name": "python",
   "nbconvert_exporter": "python",
   "pygments_lexer": "ipython3",
   "version": "3.10.8"
  }
 },
 "nbformat": 4,
 "nbformat_minor": 5
}
